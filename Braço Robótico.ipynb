{
 "cells": [
  {
   "cell_type": "markdown",
   "metadata": {},
   "source": [
    "# Braço Robótico \n",
    "\n",
    "## Overview \n",
    "•O braço robótico é do tipo RP.\n",
    "\n",
    "•A junta rotativa possui o comprimento $ r_{1}=500mm $ e um grau de liberade $ 0º \\leq \\theta \\leq 90º$\n",
    "\n",
    "•A junta prismática apresenta um comprimento $ 0mm \\leq r_{2} \\leq 500mm $\n",
    "\n",
    "## Manipulação\n",
    "•Para facilitar tanto o cinemático direto quanto o cinemático inverso, o braço robótico foi representado como dois vetores, um para a junta rotativa e outro para a junta prismática.\n",
    "\n",
    "•O ponto de origem do braço robótico corresponde ao ponto de origem do sistem $O = (0,0)$\n",
    "\n",
    "## Código\n",
    "•O código de manipulação do robô foi feita em python3, utilizando o módulo vectors, numpy e matplotlib.\n",
    "\n",
    "#### Imports \n",
    "\n"
   ]
  },
  {
   "cell_type": "code",
   "execution_count": 1,
   "metadata": {},
   "outputs": [],
   "source": [
    "import vectors\n",
    "import matplotlib.pyplot as plt\n",
    "import numpy as np"
   ]
  },
  {
   "cell_type": "markdown",
   "metadata": {},
   "source": [
    "#### 1.0 Class definition e constructor\n",
    "•Definiremos a classe `robotic_arm`, que tera:\n",
    "\n",
    "    -origin_point: Ponto de origem do braço robótico;\n",
    "    -arm_vector: Vetor que representará a junta rotativa;\n",
    "    -retracting_arm_vector: Vetor que representará a junta prismática retrátil;\n",
    "    -target: Ponto alvo da garra robótica."
   ]
  },
  {
   "cell_type": "code",
   "execution_count": 2,
   "metadata": {},
   "outputs": [],
   "source": [
    "class robotic_arm():\n",
    "\n",
    "    def __init__(self):\n",
    "        \n",
    "        ######## Create variables for this class ########\n",
    "        \n",
    "        # The origin point for the robotic arm  \n",
    "        self.origin_point = vectors.point(0,0)\n",
    "\n",
    "        # the vector representing the rotating arm at the default position\n",
    "        self.arm_vector = vectors.vector2(x=500,y=0)\n",
    "\n",
    "        # The vector that represents the retracting arm\n",
    "        self.retracting_arm_vector = vectors.vector2(500,0)\n",
    "\n",
    "        # The target point used in the reverse kinematics\n",
    "        self.target = vectors.point(0,0)"
   ]
  },
  {
   "cell_type": "markdown",
   "metadata": {},
   "source": [
    "#### 1.1 `reset_rotating_arm( )`\n",
    "•Método que retorna o vector representante da junta rotativa de volta para seu valor inicial de:\n",
    "   $$\\vec{v} = \\begin{pmatrix} 500 \\\\ 0 \\end{pmatrix}$$"
   ]
  },
  {
   "cell_type": "code",
   "execution_count": 3,
   "metadata": {},
   "outputs": [],
   "source": [
    "    def reset_rotating_arm(self):\n",
    "\n",
    "        # the vector representing the rotating arm at the default position\n",
    "        self.arm_vector = vectors.vector2(x=500,y=0)"
   ]
  },
  {
   "cell_type": "markdown",
   "metadata": {},
   "source": [
    "#### 1.2 `reset_retracting_arm( )`\n",
    "•Método que extende a junta prismática para seu comprimento máximo $r_2=500 mm$ paralelo ao eixo $x$\n"
   ]
  },
  {
   "cell_type": "code",
   "execution_count": 4,
   "metadata": {},
   "outputs": [],
   "source": [
    "    def reset_retracting_arm(self):\n",
    "\n",
    "        # The vector that represents the retracting arm\n",
    "        self.retracting_arm_vector = vectors.vector2(500,0)"
   ]
  },
  {
   "cell_type": "markdown",
   "metadata": {},
   "source": [
    "#### 1.3 `set_target( )`\n",
    "•Método que recebe um `vector.point` como parâmetro e implementa ele como ponto alvo da garra robótica"
   ]
  },
  {
   "cell_type": "code",
   "execution_count": 5,
   "metadata": {},
   "outputs": [],
   "source": [
    "    def set_target(self, target_point):\n",
    "\n",
    "        self.target = target_point"
   ]
  },
  {
   "cell_type": "markdown",
   "metadata": {},
   "source": [
    "#### 1.4 `calculate_movemet_to_target( )`\n",
    "•Método que faz todos os cálculos necessários para mover as juntas do robô para que consiga chegar no ponto alvo.\n",
    "\n",
    "##### 1º Passo:\n",
    "\n",
    "   Determinar o vetor da origem do robo $O=(0,0)$ até o ponto alvo $A=(x_{1},y_{1})$ através do método `vector_from_points( )` do módulo `vectors`\n",
    "   \n",
    "  $$\\vec{V} = \\vec{OA} = \\begin{pmatrix} x_{1} - 0 \\\\ y_{1} - 0 \\end{pmatrix}$$\n",
    "  \n",
    "##### 2º Passo:\n",
    "\n",
    "   Devemos conferir se a norma desse vetor é menor do que a norma do vetor rotativo, pois é a menor norma que o braço consegue alcançar. Se for menor o algoritmo retornará um erro.\n",
    "   \n",
    "##### 3º Passo:\n",
    "\n",
    "   Calculamos o ângulo entre o vetor $\\vec{V}$ e o eixo $x$.\n",
    "   \n",
    "   $$ \\lVert \\vec{V} . \\vec{x_{0}} \\rVert  = \\lVert \\vec{V} \\rVert . \\lVert \\vec{x_{0}} \\rVert . \\cos {\\theta} $$\n",
    "\n",
    "$$ \\cos {\\theta} = \\dfrac{\\lVert \\vec{V} . \\vec{x_{0}} \\rVert} {\\lVert \\vec{V} \\rVert . \\lVert \\vec{x_{0}} \\rVert} $$\n",
    "\n",
    "$$ \\theta = \\arccos{\\left(\\dfrac{\\lVert \\vec{V} . \\vec{x_{0}} \\rVert} {\\lVert \\vec{V} \\rVert . \\lVert \\vec{x_{0}} \\rVert}\\right)} $$\n",
    "\n",
    "##### 4º Passo:\n",
    "\n",
    "   Verificamos se o angulo $\\theta$ está dentro dos limites da junta rotativa : \n",
    "   $$0º \\leq \\theta \\leq 90º$$\n",
    "   \n",
    "   Se estiver fora do aceitável, o algoritmo retornará um erro.\n",
    "   \n",
    "   \n",
    "##### 5º Passo:\n",
    "\n",
    "   Ao calcularmos o ângulo, nós rotacionamos o vetor da junta rotativa $\\thetaº:$\n",
    "   \n",
    "   $$ \\vec{v'} = R_{\\theta} . \\vec{v} $$ \n",
    "\n",
    "$$ v' = \\begin{pmatrix} \\cos{\\theta} & -\\sin{\\theta} \\\\  \\sin{\\theta} & \\cos{\\theta} \\end{pmatrix} . \\begin{pmatrix} x \\\\ y \\end{pmatrix}$$\n",
    "\n",
    "##### 6º Passo:\n",
    "\n",
    "   Calculamos quanto que o braço retrátil deve se extender para finalmente alcançar o ponto alvo.\n",
    "   \n",
    "   Fazemos isso subtraindo o vetor $\\vec{v}$ que representa a junta rotativa com norma fixa do $\\vec{V}$ que representa o vetor da origem até o ponto alvo.\n",
    "   \n",
    "   $$\\vec{w} = \\vec{V} - \\vec{v}$$\n",
    "   \n",
    "##### 7º Passo:\n",
    "\n",
    "   Conferimos a norma do vetor $\\vec{w}$, se for maior do que o alcance máximo da junta prismática, o algortimo retornará um erro notificando o usuário."
   ]
  },
  {
   "cell_type": "code",
   "execution_count": 6,
   "metadata": {},
   "outputs": [],
   "source": [
    "    def calculate_movemet_to_target(self):\n",
    "\n",
    "        # First determine the vector from the origin point of the robot to the target point \n",
    "        v = self.origin_point.vector_from_points(self.target)\n",
    "\n",
    "        # If the norm of the v vector is smaller than 500, it's outside the workspace since the smallest\n",
    "        # vector possible is when the retracting arm = 0\n",
    "        if v.norm() < 500:\n",
    "            raise KeyError('[ERROR] Range error: Point outside workspace')\n",
    "\n",
    "        # Check to see if the angle between the v target vector and the x axis is outside the arms range (0<=angle<=90)\n",
    "        reference_angle = v.angle()\n",
    "        if reference_angle > 90 or reference_angle<0:\n",
    "            raise KeyError('[ERROR] Range Error: The angle desired %s is outsie the range of motion'%(str(reference_angle)))\n",
    "       \n",
    "        # Calculate the angle which the arm will have to rotate from its current position to go to the target position\n",
    "        target_angle = v.angle(self.arm_vector)\n",
    "\n",
    "        # Rotate the arm vector that amount \n",
    "        self.arm_vector = self.arm_vector.rotate_vector(target_angle)\n",
    "\n",
    "        # subtract the arm vector from the target v vector, which will result in how much the retracting arm will need to move \n",
    "        self.retracting_arm_vector = v - self.arm_vector\n",
    "\n",
    "        # The max length of the retracting is 0,5m (aka 500mm)so if the nor of the vector is gratter than that, raise an error\n",
    "        if self.retracting_arm_vector.norm() > 500:\n",
    "            raise KeyError('[ERROR] Range error: Point outside workspace')\n",
    "        \n",
    "        print('The angle of movement is:',target_angle)\n",
    "        print('The vector representing the rotating arm is:', self.arm_vector)\n",
    "        print('The vector representing the retracting arm is:', self.retracting_arm_vector)"
   ]
  },
  {
   "cell_type": "markdown",
   "metadata": {},
   "source": [
    "#### 1.5 `rotate_robotic_arm( )`\n",
    "• Método para fazer a rotação da junta rotativa, como explicado na seção 1.4:\n",
    "\n",
    " $$ \\vec{v'} = R_{\\theta} . \\vec{v} $$ \n",
    "\n",
    "$$ v' = \\begin{pmatrix} \\cos{\\theta} & -\\sin{\\theta} \\\\  \\sin{\\theta} & \\cos{\\theta} \\end{pmatrix} . \\begin{pmatrix} x \\\\ y \\end{pmatrix}$$"
   ]
  },
  {
   "cell_type": "code",
   "execution_count": 16,
   "metadata": {},
   "outputs": [],
   "source": [
    "    def rotate_robotic_arm(self,angle):\n",
    "\n",
    "        # rotate the robotic arm \n",
    "        self.arm_vector = self.arm_vector.rotate_vector(angle)\n",
    "        \n",
    "        # also 'rotate' the retracting arm \n",
    "        self.retracting_arm_vector = self.retracting_arm_vector.rotate_vector(angle - self.arm_vector.angle())"
   ]
  },
  {
   "cell_type": "markdown",
   "metadata": {},
   "source": [
    "#### 1.6 `extand_arm( )`\n",
    "•Método para extender ou diminuir o vetor da junta prismática.\n",
    "\n",
    "•Como o vector que representa a junta prismática é Linearmente Dependente do vetor que representa a junta rotativa, para determinarmos as componentes $x$ e $y$ do vetor prismático precisamos apenas multiplicar o vetor rotativo por um escalar $\\alpha$ que represente a porcentagem do valor total do vetor prismático.\n",
    "$$0 \\leq \\alpha \\leq 1$$"
   ]
  },
  {
   "cell_type": "code",
   "execution_count": 8,
   "metadata": {},
   "outputs": [],
   "source": [
    "    def extand_arm(self, percentage):\n",
    "        \n",
    "        self.retracting_arm_vector = self.arm_vector.multiplication_by_scalar(percentage)"
   ]
  },
  {
   "cell_type": "markdown",
   "metadata": {},
   "source": [
    "#### 1.7 `plot_robotic_arm( )`\n",
    "\n",
    "•Método para visualizar os vetores que representam o braço robótico.\n",
    "\n",
    "•Utilizamos o módulo `matplotlib`."
   ]
  },
  {
   "cell_type": "code",
   "execution_count": 9,
   "metadata": {},
   "outputs": [],
   "source": [
    "    def plot_robotic_arm(self):\n",
    "\n",
    "        %matplotlib inline\n",
    "\n",
    "        # Create the subplots\n",
    "        fig,ax = plt.subplots()\n",
    "\n",
    "        # create the vector representation of the rotating robotic arm\n",
    "        ax.quiver(self.origin_point.x,self.origin_point.y, self.arm_vector.x , self.arm_vector.y,color='orange' , units='xy' ,scale=1)\n",
    "\n",
    "        # Create the vector that will represent the retracting robot arm \n",
    "        plt.quiver(self.arm_vector.x,self.arm_vector.y, self.retracting_arm_vector.x, self.retracting_arm_vector.y,color='b', units='xy' ,scale=1)\n",
    "\n",
    "        # Equalize the axis and vectors \n",
    "        ax.set_aspect('equal')\n",
    "\n",
    "        # set the grids \n",
    "        plt.grid()\n",
    "\n",
    "        # set the limits in the graph \n",
    "        plt.xlim(0,1000)\n",
    "        plt.ylim(0,1000)\n",
    "\n",
    "        # set the labels \n",
    "        plt.xlabel('X component (mm)')\n",
    "        plt.ylabel('Y component (mm)')\n",
    "\n",
    "        plt.title('Robotic Arm')\n",
    "\n",
    "        # show the plot\n",
    "        plt.show()"
   ]
  },
  {
   "cell_type": "markdown",
   "metadata": {},
   "source": [
    "#### 1.8 `plot_workspace( )`\n",
    "•Método \"brute force\" de determinação e vizualização do workspace do robô.\n",
    "\n",
    "•Calculado através de $9 . 10^6$ iteratons ( i.e $9 . 10^6$ pontos calculados), armazenando as coordenadas desses pontos encontrados e depois são vizualizados em um scatter plot utilizando matplotlib."
   ]
  },
  {
   "cell_type": "code",
   "execution_count": 10,
   "metadata": {},
   "outputs": [],
   "source": [
    "    def plot_workspace(self):\n",
    "        \n",
    "        %matplotlib inline\n",
    "        \n",
    "        x_coordinates = []\n",
    "        y_coordinates = []\n",
    "\n",
    "        # Iterate through all the possible angles for the rotating robotic arm \n",
    "        for angle in np.arange(0,90.01,0.01):\n",
    "\n",
    "            # move the robotic arm \n",
    "            self.rotate_robotic_arm(angle)\n",
    "\n",
    "            # Iterate through all the possible lengths of the extending arm \n",
    "            for percentage_of_arm in np.arange(0,1.001,0.001):\n",
    "\n",
    "                # update the arm lenght \n",
    "                self.extand_arm(percentage_of_arm)\n",
    "\n",
    "                # Calculate the x coordinate of the tip of the arm\n",
    "                x_coordinates.append(self.origin_point.x+self.arm_vector.x+self.retracting_arm_vector.x)\n",
    "\n",
    "                # Calculate the y cooridnate of the tip of the arm \n",
    "                y_coordinates.append(self.origin_point.y+self.arm_vector.y+self.retracting_arm_vector.y)\n",
    "\n",
    "                # reset the lenght of the arm \n",
    "                self.reset_retracting_arm()\n",
    "\n",
    "\n",
    "            # set the robotic arm back to the original position \n",
    "            self.reset_rotating_arm()\n",
    "\n",
    "        # Plot all the poinst \n",
    "        plt.plot(x_coordinates,y_coordinates,'o',color = ('black'))\n",
    "        plt.title(\"Robot's Workspace\")\n",
    "        plt.show()"
   ]
  },
  {
   "cell_type": "markdown",
   "metadata": {},
   "source": [
    "## Exemplos \n",
    "\n",
    "### Cinemática Direta \n"
   ]
  },
  {
   "cell_type": "code",
   "execution_count": 20,
   "metadata": {},
   "outputs": [
    {
     "data": {
      "image/png": "[encoded data removed]",
      "text/plain": [
       "<Figure size 432x288 with 1 Axes>"
      ]
     },
     "metadata": {
      "needs_background": "light"
     },
     "output_type": "display_data"
    },
    {
     "data": {
      "image/png": "[encoded data removed]",
      "text/plain": [
       "<Figure size 432x288 with 1 Axes>"
      ]
     },
     "metadata": {
      "needs_background": "light"
     },
     "output_type": "display_data"
    }
   ],
   "source": [
    "# import the necessary modules\n",
    "import vectors\n",
    "import robot\n",
    "import matplotlib.pyplot as plt\n",
    "import numpy as np\n",
    "%matplotlib inline\n",
    "\n",
    "# Instantiate the robot_arm class \n",
    "garra = robot.robotic_arm()\n",
    "\n",
    "# plot the arm in the default position\n",
    "garra.plot_robotic_arm()\n",
    "\n",
    "# change the angle and the size of the retracting arm and plot again\n",
    "garra.rotate_robotic_arm(40)\n",
    "garra.extand_arm(.5)\n",
    "garra.plot_robotic_arm()"
   ]
  },
  {
   "cell_type": "markdown",
   "metadata": {},
   "source": [
    "## Cinemática Indireta "
   ]
  },
  {
   "cell_type": "code",
   "execution_count": 29,
   "metadata": {},
   "outputs": [
    {
     "name": "stdout",
     "output_type": "stream",
     "text": [
      "The angle of movement is: 45.00000000000001\n",
      "The vector representing the rotating arm is: [[353.555],[353.555]]\n",
      "The vector representing the retracting arm is: [[246.445],[246.445]]\n"
     ]
    },
    {
     "data": {
      "image/png": "[encoded data removed]",
      "text/plain": [
       "<Figure size 432x288 with 1 Axes>"
      ]
     },
     "metadata": {
      "needs_background": "light"
     },
     "output_type": "display_data"
    }
   ],
   "source": [
    "# import the necessary modules\n",
    "import vectors\n",
    "import robot\n",
    "import matplotlib.pyplot as plt\n",
    "import numpy as np\n",
    "%matplotlib inline\n",
    "\n",
    "# Instantiate the robot_arm class \n",
    "garra = robot.robotic_arm()\n",
    "\n",
    "# Create a point which is going to be our target point \n",
    "target_point = vectors.point(600,600)\n",
    "garra.set_target(target_point)\n",
    "\n",
    "# Calculate the robot's movement\n",
    "garra.calculate_movemet_to_target()\n",
    "garra.plot_robotic_arm()"
   ]
  },
  {
   "cell_type": "markdown",
   "metadata": {},
   "source": [
    "## Workspace"
   ]
  },
  {
   "cell_type": "code",
   "execution_count": 30,
   "metadata": {},
   "outputs": [
    {
     "data": {
      "image/png": "[encoded data removed]",
      "text/plain": [
       "<Figure size 432x288 with 1 Axes>"
      ]
     },
     "metadata": {
      "needs_background": "light"
     },
     "output_type": "display_data"
    }
   ],
   "source": [
    "# import the necessary modules\n",
    "import vectors\n",
    "import robot\n",
    "import matplotlib.pyplot as plt\n",
    "import numpy as np\n",
    "%matplotlib inline\n",
    "\n",
    "# Instantiate the robot_arm class \n",
    "garra = robot.robotic_arm()\n",
    "garra.plot_workspace()"
   ]
  }
 ],
 "metadata": {
  "kernelspec": {
   "display_name": "Python 3",
   "language": "python",
   "name": "python3"
  },
  "language_info": {
   "codemirror_mode": {
    "name": "ipython",
    "version": 3
   },
   "file_extension": ".py",
   "mimetype": "text/x-python",
   "name": "python",
   "nbconvert_exporter": "python",
   "pygments_lexer": "ipython3",
   "version": "3.7.0"
  }
 },
 "nbformat": 4,
 "nbformat_minor": 4
}
