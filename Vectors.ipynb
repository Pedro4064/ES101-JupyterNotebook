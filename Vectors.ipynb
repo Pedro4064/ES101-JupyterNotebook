{
 "cells": [
  {
   "cell_type": "markdown",
   "metadata": {},
   "source": [
    "# Vectors \n",
    "\n",
    "## Overview \n",
    "\n",
    "• Esse módulo foi criado para esse projeto com o intuito de facilitar e agilizar o manuseio de vetores no espaço 2D.\n",
    "\n",
    "• Consiste de duas classes:\n",
    "\n",
    "    1.Vector2\n",
    "    2.Point"
   ]
  },
  {
   "cell_type": "markdown",
   "metadata": {},
   "source": [
    "## 1.Vector2\n",
    "\n",
    "### Overview\n",
    "\n",
    "•Consiste na criação de uma classe que contém todos os componentes e funcionalidades mais importantes quando manipulando vetores 2D, como:\n",
    "\n",
    "    -Norma do Vetor\n",
    "    -Angulo entre Vetores\n",
    "    -Multiplicação pro um escalar\n",
    "    -Vetor Unitário\n",
    "    -Rotação de Vetores \n",
    "    -Soma de Vetores\n",
    "    -Subtração de Vetores\n",
    "    -Produto Escalar entre dois Vetores\n",
    "    \n",
    "### Code"
   ]
  },
  {
   "cell_type": "markdown",
   "metadata": {},
   "source": [
    "#### 1.1 Imports\n",
    "•Importar os módulos necessários"
   ]
  },
  {
   "cell_type": "code",
   "execution_count": 19,
   "metadata": {},
   "outputs": [],
   "source": [
    "import math \n",
    "import numpy as np"
   ]
  },
  {
   "cell_type": "markdown",
   "metadata": {},
   "source": [
    "#### 1.2 Class Declaration\n",
    "•Declaração da classe e seu construtor, o qual inicia os componetnes `x` e `y` do vetor(se nenhum valor for especificado o padrão é x = 0.0 e y = 0.0)."
   ]
  },
  {
   "cell_type": "code",
   "execution_count": 20,
   "metadata": {},
   "outputs": [],
   "source": [
    "class vector2():\n",
    "\n",
    "    def __init__(self,x = 0.0, y=0.0):\n",
    "        self.x = x\n",
    "        self.y = y"
   ]
  },
  {
   "cell_type": "markdown",
   "metadata": {},
   "source": [
    "#### 1.3 set_coordinates( )\n",
    "•Helper method que muda os valores das componetes do vetor."
   ]
  },
  {
   "cell_type": "code",
   "execution_count": 21,
   "metadata": {},
   "outputs": [],
   "source": [
    "    def set_coordinates(self,x:float,y:float):\n",
    "        self.x = x\n",
    "        self.y = y"
   ]
  },
  {
   "cell_type": "markdown",
   "metadata": {},
   "source": [
    "#### 1.4 nomr( )\n",
    "•Método que calcula a norma de um vetor tirando a raiz quadrada da soma do quadrado da componente x com o quadrado da componente y:\n",
    "\n",
    "$$ \\lVert \\vec{V} \\rVert = \\sqrt{x^2 + y^2}$$"
   ]
  },
  {
   "cell_type": "code",
   "execution_count": 22,
   "metadata": {},
   "outputs": [],
   "source": [
    "    def norm(self):\n",
    "        vector_norm = math.sqrt(self.x**2 + self.y**2)\n",
    "        return vector_norm"
   ]
  },
  {
   "cell_type": "markdown",
   "metadata": {},
   "source": [
    "\n",
    "#### 1.5 angle( )\n",
    "•Método que calcula o ângulo entre dois vetores.\n",
    "\n",
    "•Se nenhum vetor for passado como argumento para o método será calculado o ângulo entre `self` e o `x axis`.\n",
    "\n",
    "•Determinamos o ângulo entre dois vetores através da definição de multiplicação escalar entre vetores:\n",
    "\n",
    "$$ \\lVert \\vec{V} . \\vec{w} \\rVert  = \\lVert \\vec{V} \\rVert . \\lVert \\vec{w} \\rVert . \\cos {\\theta} $$\n",
    "\n",
    "$$ \\cos {\\theta} = \\dfrac{\\lVert \\vec{V} . \\vec{w} \\rVert} {\\lVert \\vec{V} \\rVert . \\lVert \\vec{w} \\rVert} $$\n",
    "\n",
    "$$ \\theta = \\arccos{\\left(\\dfrac{\\lVert \\vec{V} . \\vec{w} \\rVert} {\\lVert \\vec{V} \\rVert . \\lVert \\vec{w} \\rVert}\\right)} $$\n"
   ]
  },
  {
   "cell_type": "code",
   "execution_count": 23,
   "metadata": {},
   "outputs": [],
   "source": [
    "    def angle(self, other_vector = None):\n",
    "        # If the other vector was not passed as paramater, the default is the 'x' (1,0)\n",
    "        if other_vector == None:\n",
    "            other_vector = vector2(1,0) \n",
    "        \n",
    "        # Since we know that the scalar product of two vectos equal the \n",
    "        # product between its norms and the angle between them:\n",
    "        product = self * other_vector\n",
    "        angle_cos = product / (self.norm() * other_vector.norm())\n",
    "        angle = math.acos(angle_cos)\n",
    "\n",
    "        # convert to degrees and returnt he value\n",
    "        angle = math.degrees(angle)\n",
    "        return angle"
   ]
  },
  {
   "cell_type": "markdown",
   "metadata": {},
   "source": [
    "#### 1.6 multiplication_by_scalar( )\n",
    "•Multiplicação por escalar: considerando um vetor $\\vec {v}$ e um escalar $\\alpha \\in \\mathbb{R} $ tal que\n",
    "\n",
    "$$\\vec{v} = \\begin{pmatrix} x \\\\ y \\end{pmatrix}$$\n",
    "\n",
    "$$ \\vec{v} . \\alpha = \\begin{pmatrix} x . \\alpha \\\\ y . \\alpha \\end{pmatrix} $$"
   ]
  },
  {
   "cell_type": "code",
   "execution_count": 24,
   "metadata": {},
   "outputs": [],
   "source": [
    "    def multiplication_by_scalar(self, scalar:float):\n",
    "        return vector2(self.x*scalar,self.y*scalar)"
   ]
  },
  {
   "cell_type": "markdown",
   "metadata": {},
   "source": [
    "#### 1.7 unitary_vector( )\n",
    "•Método retorna o vetor unitário paralelo ao vetor `self`.\n",
    "\n",
    "•O vetor unitário é usado para indicar a direção sentido do vetor.\n",
    "\n",
    "• Ele é calculado ao multiplicaro o vetor pelo inverso de sua norma:\n",
    "\n",
    "$$ \\vec{v} = \\begin{pmatrix} x \\\\ y \\end{pmatrix}$$\n",
    "\n",
    "$$ \\vec{u_{i}}  = \\dfrac{\\vec{v}}{\\lVert \\vec {v} \\rVert}$$\n",
    "\n",
    "$$ \\vec{u_{i}}  = \\vec{v} . \\dfrac{1}{\\lVert \\vec {v} \\rVert}$$\n",
    "\n",
    "$$ \\vec{u_{i}}  = \\vec{v} . \\dfrac{1}{\\sqrt {x^2+y^2}}$$\n"
   ]
  },
  {
   "cell_type": "code",
   "execution_count": 25,
   "metadata": {},
   "outputs": [],
   "source": [
    "    def unitary_vector(self):\n",
    "\n",
    "        # We can find the unitary vector by deviding the vecotr by its norm\n",
    "        unitary_vector = self.multiplication_by_scalar(1/self.norm())\n",
    "        return unitary_vector"
   ]
  },
  {
   "cell_type": "markdown",
   "metadata": {},
   "source": [
    "#### 1.8 rotate_vector( )\n",
    "\n",
    "•Esse métodos retorna um vetor $\\vec{V'} $, que consiste no vetor $\\vec{v}$ rotacionado em um angulo $\\theta$ (em graus) que é passado como argumento.\n",
    "\n",
    "$$ \\vec{v} = \\begin{pmatrix} x \\\\ y \\end{pmatrix},   R_{\\theta} = \\begin{pmatrix} \\cos{\\theta} & -\\sin{\\theta} \\\\  \\sin{\\theta} & \\cos{\\theta} \\end{pmatrix}$$\n",
    "\n",
    "\n",
    "$$ \\vec{V'} = R_{\\theta} . \\vec{V} $$ \n",
    "\n",
    "$$ V' = \\begin{pmatrix} \\cos{\\theta} & -\\sin{\\theta} \\\\  \\sin{\\theta} & \\cos{\\theta} \\end{pmatrix} . \\begin{pmatrix} x \\\\ y \\end{pmatrix}$$"
   ]
  },
  {
   "cell_type": "code",
   "execution_count": 26,
   "metadata": {},
   "outputs": [],
   "source": [
    "    def rotate_vector(self, angle):\n",
    "\n",
    "        # convert the angle to radians \n",
    "        angle = math.radians(angle)\n",
    "        # Create the rotation matrix\n",
    "        r_matrix = np.array([[math.cos(angle).__round__(5),-1*math.sin(angle).__round__(5)],\n",
    "                             [math.sin(angle).__round__(5), math.cos(angle).__round__(5)]])\n",
    "        \n",
    "        # Create an array with the current vector2 componets\n",
    "        arm_vector = np.array([[self.x],\n",
    "                               [self.y]])\n",
    "\n",
    "        # Multiply them \n",
    "        resulting_vecotr = np.matmul(r_matrix,arm_vector)\n",
    "\n",
    "        # Return a vector 2 \n",
    "        return vector2(resulting_vecotr[0], resulting_vecotr[1])"
   ]
  },
  {
   "cell_type": "markdown",
   "metadata": {},
   "source": [
    "#### 1.9 `__add__( )`\n",
    "•Overload do método de soma.\n",
    "\n",
    "•Retorna a soma de dois vetores:\n",
    "\n",
    "$$ \\vec{v} = \\begin{pmatrix} a \\\\ b \\end{pmatrix} , \\vec{u} = \\begin{pmatrix} c \\\\ d \\end{pmatrix} $$\n",
    "\n",
    "$$ \\vec{v} + \\vec{u} = \\begin{pmatrix} a + c \\\\ b + d \\end{pmatrix} $$"
   ]
  },
  {
   "cell_type": "code",
   "execution_count": 27,
   "metadata": {},
   "outputs": [],
   "source": [
    "    def __add__(self,other_vector):\n",
    "        return vector2(x = self.x+other_vector.x, y = self.y+other_vector.y)"
   ]
  },
  {
   "cell_type": "markdown",
   "metadata": {},
   "source": [
    "#### 1.10 `__sub__( )`\n",
    "•Overload do método de subtração.\n",
    "\n",
    "•Retorna o vetor resultante da subtração:\n",
    "\n",
    "$$ \\vec{v} = \\begin{pmatrix} a \\\\ b \\end{pmatrix} , \\vec{u} = \\begin{pmatrix} c \\\\ d \\end{pmatrix} $$\n",
    "\n",
    "$$ \\vec{v} - \\vec{u} = \\begin{pmatrix} a - c \\\\ b - d \\end{pmatrix} $$\n"
   ]
  },
  {
   "cell_type": "code",
   "execution_count": 28,
   "metadata": {},
   "outputs": [],
   "source": [
    "    def __sub__(self, other_vector):\n",
    "        return vector2(x = self.x - other_vector.x, y = self.y - other_vector.y)"
   ]
  },
  {
   "cell_type": "markdown",
   "metadata": {},
   "source": [
    "#### 1.11 `__mul__( )`\n",
    "•Overload do método de multiplicação.\n",
    "\n",
    "•Retorna o valor da multiplicação escalar entre dois vetores:\n",
    "\n",
    "$$ \\vec{v} = \\begin{pmatrix} a \\\\ b \\end{pmatrix} , \\vec{u} = \\begin{pmatrix} c \\\\ d \\end{pmatrix} $$\n",
    "\n",
    "$$ \\vec{v} . \\vec{u} = (a . c) + (b . d)$$"
   ]
  },
  {
   "cell_type": "code",
   "execution_count": 29,
   "metadata": {},
   "outputs": [],
   "source": [
    "     def __mul__(self, other_vector):\n",
    "        scalar = (self.x * other_vector.x) + (self.y*other_vector.y)\n",
    "        return scalar"
   ]
  },
  {
   "cell_type": "markdown",
   "metadata": {},
   "source": [
    "## 2.Point\n",
    "\n",
    "### Overview \n",
    "•Classe criada para facilitar e agilizar a manipulação de pontos em um palno, contendo a seguinte funcionalidade:\n",
    "    \n",
    "    -Vetor a partir de dois pontos \n",
    "    \n",
    "### Code\n",
    "\n",
    "#### 2.1 Class Declaration\n",
    "• Se nenhum valor for passado como argumento para o construtor da classe, os valores padrão de `x` e `y` são ambos 0:"
   ]
  },
  {
   "cell_type": "code",
   "execution_count": null,
   "metadata": {},
   "outputs": [],
   "source": [
    "class point():\n",
    "\n",
    "    def __init__(self, x = 0.0, y = 0.0):\n",
    "        self.x = x\n",
    "        self.y = y\n"
   ]
  },
  {
   "cell_type": "markdown",
   "metadata": {},
   "source": [
    "#### 2.2 Vector_from_points( )\n",
    "•Cria um vetor a partir do própio ponto (`self`) e outro que deve ser passado como argumento para o método.\n",
    "\n",
    "•Considerando um ponto $P_{I} = (x_{I},y_{I})$ e outro ponto $P_{II} = (x_{II},y_{II})$ temos que o vetor $\\vec{P_{I}P_{II}} = (x_{II} - x_{I}, y_{II} - y_{I})$"
   ]
  },
  {
   "cell_type": "code",
   "execution_count": 1,
   "metadata": {},
   "outputs": [],
   "source": [
    "    def vector_from_points(self, other_point):\n",
    "\n",
    "        # other - self \n",
    "        return vector2(x = other_point.x - self.x, y = other_point.y - self.y)"
   ]
  },
  {
   "cell_type": "markdown",
   "metadata": {},
   "source": [
    "#### 2.3 set_coordinates( )\n",
    "•Helper Method para tribuir novas coordenadas de `x` e `y` para um ponto:"
   ]
  },
  {
   "cell_type": "code",
   "execution_count": 2,
   "metadata": {},
   "outputs": [],
   "source": [
    "    def set_coordinates(self,x,y):\n",
    "        self.x = x\n",
    "        self.y = y "
   ]
  }
 ],
 "metadata": {
  "kernelspec": {
   "display_name": "Python 3",
   "language": "python",
   "name": "python3"
  },
  "language_info": {
   "codemirror_mode": {
    "name": "ipython",
    "version": 3
   },
   "file_extension": ".py",
   "mimetype": "text/x-python",
   "name": "python",
   "nbconvert_exporter": "python",
   "pygments_lexer": "ipython3",
   "version": "3.7.0"
  }
 },
 "nbformat": 4,
 "nbformat_minor": 4
}
